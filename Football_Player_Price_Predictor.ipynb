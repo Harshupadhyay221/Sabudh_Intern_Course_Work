{
 "cells": [
  {
   "cell_type": "code",
   "execution_count": 1,
   "id": "70cb49f9-e7bc-416a-b065-f63b46594737",
   "metadata": {},
   "outputs": [],
   "source": [
    "# Import libraries\n",
    "import numpy as np\n",
    "import pandas as pd"
   ]
  },
  {
   "cell_type": "code",
   "execution_count": 2,
   "id": "a87cf9e9-4534-4155-aa04-17a13d4847a5",
   "metadata": {},
   "outputs": [],
   "source": [
    "# read data\n",
    "df = pd.read_csv(\"Data set__1682565729-62fcaa4ea2bc0b6439d2306a.csv\")"
   ]
  },
  {
   "cell_type": "code",
   "execution_count": 3,
   "id": "ae16d2f1-6ebd-4f29-a85e-007b6f4adbcd",
   "metadata": {},
   "outputs": [
    {
     "data": {
      "text/html": [
       "<div>\n",
       "<style scoped>\n",
       "    .dataframe tbody tr th:only-of-type {\n",
       "        vertical-align: middle;\n",
       "    }\n",
       "\n",
       "    .dataframe tbody tr th {\n",
       "        vertical-align: top;\n",
       "    }\n",
       "\n",
       "    .dataframe thead th {\n",
       "        text-align: right;\n",
       "    }\n",
       "</style>\n",
       "<table border=\"1\" class=\"dataframe\">\n",
       "  <thead>\n",
       "    <tr style=\"text-align: right;\">\n",
       "      <th></th>\n",
       "      <th>name</th>\n",
       "      <th>club</th>\n",
       "      <th>age</th>\n",
       "      <th>position</th>\n",
       "      <th>position_cat</th>\n",
       "      <th>market_value</th>\n",
       "      <th>page_views</th>\n",
       "      <th>fpl_value</th>\n",
       "      <th>fpl_sel</th>\n",
       "      <th>fpl_points</th>\n",
       "      <th>region</th>\n",
       "      <th>nationality</th>\n",
       "      <th>new_foreign</th>\n",
       "      <th>age_cat</th>\n",
       "      <th>club_id</th>\n",
       "      <th>big_club</th>\n",
       "      <th>new_signing</th>\n",
       "    </tr>\n",
       "  </thead>\n",
       "  <tbody>\n",
       "    <tr>\n",
       "      <th>0</th>\n",
       "      <td>Alexis Sanchez</td>\n",
       "      <td>Arsenal</td>\n",
       "      <td>28</td>\n",
       "      <td>LW</td>\n",
       "      <td>1</td>\n",
       "      <td>65.0</td>\n",
       "      <td>4329</td>\n",
       "      <td>12.0</td>\n",
       "      <td>17.10%</td>\n",
       "      <td>264</td>\n",
       "      <td>3.0</td>\n",
       "      <td>Chile</td>\n",
       "      <td>0</td>\n",
       "      <td>4</td>\n",
       "      <td>1</td>\n",
       "      <td>1</td>\n",
       "      <td>0</td>\n",
       "    </tr>\n",
       "    <tr>\n",
       "      <th>1</th>\n",
       "      <td>Mesut Ozil</td>\n",
       "      <td>Arsenal</td>\n",
       "      <td>28</td>\n",
       "      <td>AM</td>\n",
       "      <td>1</td>\n",
       "      <td>50.0</td>\n",
       "      <td>4395</td>\n",
       "      <td>9.5</td>\n",
       "      <td>5.60%</td>\n",
       "      <td>167</td>\n",
       "      <td>2.0</td>\n",
       "      <td>Germany</td>\n",
       "      <td>0</td>\n",
       "      <td>4</td>\n",
       "      <td>1</td>\n",
       "      <td>1</td>\n",
       "      <td>0</td>\n",
       "    </tr>\n",
       "    <tr>\n",
       "      <th>2</th>\n",
       "      <td>Petr Cech</td>\n",
       "      <td>Arsenal</td>\n",
       "      <td>35</td>\n",
       "      <td>GK</td>\n",
       "      <td>4</td>\n",
       "      <td>7.0</td>\n",
       "      <td>1529</td>\n",
       "      <td>5.5</td>\n",
       "      <td>5.90%</td>\n",
       "      <td>134</td>\n",
       "      <td>2.0</td>\n",
       "      <td>Czech Republic</td>\n",
       "      <td>0</td>\n",
       "      <td>6</td>\n",
       "      <td>1</td>\n",
       "      <td>1</td>\n",
       "      <td>0</td>\n",
       "    </tr>\n",
       "    <tr>\n",
       "      <th>3</th>\n",
       "      <td>Theo Walcott</td>\n",
       "      <td>Arsenal</td>\n",
       "      <td>28</td>\n",
       "      <td>RW</td>\n",
       "      <td>1</td>\n",
       "      <td>20.0</td>\n",
       "      <td>2393</td>\n",
       "      <td>7.5</td>\n",
       "      <td>1.50%</td>\n",
       "      <td>122</td>\n",
       "      <td>1.0</td>\n",
       "      <td>England</td>\n",
       "      <td>0</td>\n",
       "      <td>4</td>\n",
       "      <td>1</td>\n",
       "      <td>1</td>\n",
       "      <td>0</td>\n",
       "    </tr>\n",
       "    <tr>\n",
       "      <th>4</th>\n",
       "      <td>Laurent Koscielny</td>\n",
       "      <td>Arsenal</td>\n",
       "      <td>31</td>\n",
       "      <td>CB</td>\n",
       "      <td>3</td>\n",
       "      <td>22.0</td>\n",
       "      <td>912</td>\n",
       "      <td>6.0</td>\n",
       "      <td>0.70%</td>\n",
       "      <td>121</td>\n",
       "      <td>2.0</td>\n",
       "      <td>France</td>\n",
       "      <td>0</td>\n",
       "      <td>4</td>\n",
       "      <td>1</td>\n",
       "      <td>1</td>\n",
       "      <td>0</td>\n",
       "    </tr>\n",
       "  </tbody>\n",
       "</table>\n",
       "</div>"
      ],
      "text/plain": [
       "                name     club  age position  position_cat  market_value  \\\n",
       "0     Alexis Sanchez  Arsenal   28       LW             1          65.0   \n",
       "1         Mesut Ozil  Arsenal   28       AM             1          50.0   \n",
       "2          Petr Cech  Arsenal   35       GK             4           7.0   \n",
       "3       Theo Walcott  Arsenal   28       RW             1          20.0   \n",
       "4  Laurent Koscielny  Arsenal   31       CB             3          22.0   \n",
       "\n",
       "   page_views  fpl_value fpl_sel  fpl_points  region     nationality  \\\n",
       "0        4329       12.0  17.10%         264     3.0           Chile   \n",
       "1        4395        9.5   5.60%         167     2.0         Germany   \n",
       "2        1529        5.5   5.90%         134     2.0  Czech Republic   \n",
       "3        2393        7.5   1.50%         122     1.0         England   \n",
       "4         912        6.0   0.70%         121     2.0          France   \n",
       "\n",
       "   new_foreign  age_cat  club_id  big_club  new_signing  \n",
       "0            0        4        1         1            0  \n",
       "1            0        4        1         1            0  \n",
       "2            0        6        1         1            0  \n",
       "3            0        4        1         1            0  \n",
       "4            0        4        1         1            0  "
      ]
     },
     "execution_count": 3,
     "metadata": {},
     "output_type": "execute_result"
    }
   ],
   "source": [
    "df.head()"
   ]
  },
  {
   "cell_type": "code",
   "execution_count": 4,
   "id": "31baee83-d0d4-4747-b7c0-d1ca6031317a",
   "metadata": {},
   "outputs": [
    {
     "data": {
      "text/plain": [
       "name            0\n",
       "club            0\n",
       "age             0\n",
       "position        0\n",
       "position_cat    0\n",
       "market_value    0\n",
       "page_views      0\n",
       "fpl_value       0\n",
       "fpl_sel         0\n",
       "fpl_points      0\n",
       "region          1\n",
       "nationality     0\n",
       "new_foreign     0\n",
       "age_cat         0\n",
       "club_id         0\n",
       "big_club        0\n",
       "new_signing     0\n",
       "dtype: int64"
      ]
     },
     "execution_count": 4,
     "metadata": {},
     "output_type": "execute_result"
    }
   ],
   "source": [
    "df.isnull().sum()"
   ]
  },
  {
   "cell_type": "code",
   "execution_count": 5,
   "id": "5858a804-9f50-4735-891a-23eced2c10dc",
   "metadata": {},
   "outputs": [
    {
     "data": {
      "text/plain": [
       "0"
      ]
     },
     "execution_count": 5,
     "metadata": {},
     "output_type": "execute_result"
    }
   ],
   "source": [
    "df.duplicated().sum()"
   ]
  },
  {
   "cell_type": "code",
   "execution_count": 6,
   "id": "802cf8b8-ba58-4b7c-aa9e-d409fb82285b",
   "metadata": {},
   "outputs": [
    {
     "name": "stdout",
     "output_type": "stream",
     "text": [
      "<class 'pandas.core.frame.DataFrame'>\n",
      "RangeIndex: 461 entries, 0 to 460\n",
      "Data columns (total 17 columns):\n",
      " #   Column        Non-Null Count  Dtype  \n",
      "---  ------        --------------  -----  \n",
      " 0   name          461 non-null    object \n",
      " 1   club          461 non-null    object \n",
      " 2   age           461 non-null    int64  \n",
      " 3   position      461 non-null    object \n",
      " 4   position_cat  461 non-null    int64  \n",
      " 5   market_value  461 non-null    float64\n",
      " 6   page_views    461 non-null    int64  \n",
      " 7   fpl_value     461 non-null    float64\n",
      " 8   fpl_sel       461 non-null    object \n",
      " 9   fpl_points    461 non-null    int64  \n",
      " 10  region        460 non-null    float64\n",
      " 11  nationality   461 non-null    object \n",
      " 12  new_foreign   461 non-null    int64  \n",
      " 13  age_cat       461 non-null    int64  \n",
      " 14  club_id       461 non-null    int64  \n",
      " 15  big_club      461 non-null    int64  \n",
      " 16  new_signing   461 non-null    int64  \n",
      "dtypes: float64(3), int64(9), object(5)\n",
      "memory usage: 61.4+ KB\n"
     ]
    }
   ],
   "source": [
    "df.info()"
   ]
  },
  {
   "cell_type": "code",
   "execution_count": 7,
   "id": "9b7bcdbc-cdbe-46d5-8b98-935bef097b12",
   "metadata": {},
   "outputs": [
    {
     "data": {
      "text/html": [
       "<div>\n",
       "<style scoped>\n",
       "    .dataframe tbody tr th:only-of-type {\n",
       "        vertical-align: middle;\n",
       "    }\n",
       "\n",
       "    .dataframe tbody tr th {\n",
       "        vertical-align: top;\n",
       "    }\n",
       "\n",
       "    .dataframe thead th {\n",
       "        text-align: right;\n",
       "    }\n",
       "</style>\n",
       "<table border=\"1\" class=\"dataframe\">\n",
       "  <thead>\n",
       "    <tr style=\"text-align: right;\">\n",
       "      <th></th>\n",
       "      <th>age</th>\n",
       "      <th>position_cat</th>\n",
       "      <th>market_value</th>\n",
       "      <th>page_views</th>\n",
       "      <th>fpl_value</th>\n",
       "      <th>fpl_points</th>\n",
       "      <th>region</th>\n",
       "      <th>new_foreign</th>\n",
       "      <th>age_cat</th>\n",
       "      <th>club_id</th>\n",
       "      <th>big_club</th>\n",
       "      <th>new_signing</th>\n",
       "    </tr>\n",
       "  </thead>\n",
       "  <tbody>\n",
       "    <tr>\n",
       "      <th>count</th>\n",
       "      <td>461.000000</td>\n",
       "      <td>461.000000</td>\n",
       "      <td>461.000000</td>\n",
       "      <td>461.000000</td>\n",
       "      <td>461.000000</td>\n",
       "      <td>461.000000</td>\n",
       "      <td>460.000000</td>\n",
       "      <td>461.000000</td>\n",
       "      <td>461.000000</td>\n",
       "      <td>461.000000</td>\n",
       "      <td>461.000000</td>\n",
       "      <td>461.000000</td>\n",
       "    </tr>\n",
       "    <tr>\n",
       "      <th>mean</th>\n",
       "      <td>26.804772</td>\n",
       "      <td>2.180043</td>\n",
       "      <td>11.012039</td>\n",
       "      <td>763.776573</td>\n",
       "      <td>5.447939</td>\n",
       "      <td>57.314534</td>\n",
       "      <td>1.993478</td>\n",
       "      <td>0.034707</td>\n",
       "      <td>3.206074</td>\n",
       "      <td>10.334056</td>\n",
       "      <td>0.303688</td>\n",
       "      <td>0.145336</td>\n",
       "    </tr>\n",
       "    <tr>\n",
       "      <th>std</th>\n",
       "      <td>3.961892</td>\n",
       "      <td>1.000061</td>\n",
       "      <td>12.257403</td>\n",
       "      <td>931.805757</td>\n",
       "      <td>1.346695</td>\n",
       "      <td>53.113811</td>\n",
       "      <td>0.957689</td>\n",
       "      <td>0.183236</td>\n",
       "      <td>1.279795</td>\n",
       "      <td>5.726475</td>\n",
       "      <td>0.460349</td>\n",
       "      <td>0.352822</td>\n",
       "    </tr>\n",
       "    <tr>\n",
       "      <th>min</th>\n",
       "      <td>17.000000</td>\n",
       "      <td>1.000000</td>\n",
       "      <td>0.050000</td>\n",
       "      <td>3.000000</td>\n",
       "      <td>4.000000</td>\n",
       "      <td>0.000000</td>\n",
       "      <td>1.000000</td>\n",
       "      <td>0.000000</td>\n",
       "      <td>1.000000</td>\n",
       "      <td>1.000000</td>\n",
       "      <td>0.000000</td>\n",
       "      <td>0.000000</td>\n",
       "    </tr>\n",
       "    <tr>\n",
       "      <th>25%</th>\n",
       "      <td>24.000000</td>\n",
       "      <td>1.000000</td>\n",
       "      <td>3.000000</td>\n",
       "      <td>220.000000</td>\n",
       "      <td>4.500000</td>\n",
       "      <td>5.000000</td>\n",
       "      <td>1.000000</td>\n",
       "      <td>0.000000</td>\n",
       "      <td>2.000000</td>\n",
       "      <td>6.000000</td>\n",
       "      <td>0.000000</td>\n",
       "      <td>0.000000</td>\n",
       "    </tr>\n",
       "    <tr>\n",
       "      <th>50%</th>\n",
       "      <td>27.000000</td>\n",
       "      <td>2.000000</td>\n",
       "      <td>7.000000</td>\n",
       "      <td>460.000000</td>\n",
       "      <td>5.000000</td>\n",
       "      <td>51.000000</td>\n",
       "      <td>2.000000</td>\n",
       "      <td>0.000000</td>\n",
       "      <td>3.000000</td>\n",
       "      <td>10.000000</td>\n",
       "      <td>0.000000</td>\n",
       "      <td>0.000000</td>\n",
       "    </tr>\n",
       "    <tr>\n",
       "      <th>75%</th>\n",
       "      <td>30.000000</td>\n",
       "      <td>3.000000</td>\n",
       "      <td>15.000000</td>\n",
       "      <td>896.000000</td>\n",
       "      <td>5.500000</td>\n",
       "      <td>94.000000</td>\n",
       "      <td>2.000000</td>\n",
       "      <td>0.000000</td>\n",
       "      <td>4.000000</td>\n",
       "      <td>15.000000</td>\n",
       "      <td>1.000000</td>\n",
       "      <td>0.000000</td>\n",
       "    </tr>\n",
       "    <tr>\n",
       "      <th>max</th>\n",
       "      <td>38.000000</td>\n",
       "      <td>4.000000</td>\n",
       "      <td>75.000000</td>\n",
       "      <td>7664.000000</td>\n",
       "      <td>12.500000</td>\n",
       "      <td>264.000000</td>\n",
       "      <td>4.000000</td>\n",
       "      <td>1.000000</td>\n",
       "      <td>6.000000</td>\n",
       "      <td>20.000000</td>\n",
       "      <td>1.000000</td>\n",
       "      <td>1.000000</td>\n",
       "    </tr>\n",
       "  </tbody>\n",
       "</table>\n",
       "</div>"
      ],
      "text/plain": [
       "              age  position_cat  market_value   page_views   fpl_value  \\\n",
       "count  461.000000    461.000000    461.000000   461.000000  461.000000   \n",
       "mean    26.804772      2.180043     11.012039   763.776573    5.447939   \n",
       "std      3.961892      1.000061     12.257403   931.805757    1.346695   \n",
       "min     17.000000      1.000000      0.050000     3.000000    4.000000   \n",
       "25%     24.000000      1.000000      3.000000   220.000000    4.500000   \n",
       "50%     27.000000      2.000000      7.000000   460.000000    5.000000   \n",
       "75%     30.000000      3.000000     15.000000   896.000000    5.500000   \n",
       "max     38.000000      4.000000     75.000000  7664.000000   12.500000   \n",
       "\n",
       "       fpl_points      region  new_foreign     age_cat     club_id  \\\n",
       "count  461.000000  460.000000   461.000000  461.000000  461.000000   \n",
       "mean    57.314534    1.993478     0.034707    3.206074   10.334056   \n",
       "std     53.113811    0.957689     0.183236    1.279795    5.726475   \n",
       "min      0.000000    1.000000     0.000000    1.000000    1.000000   \n",
       "25%      5.000000    1.000000     0.000000    2.000000    6.000000   \n",
       "50%     51.000000    2.000000     0.000000    3.000000   10.000000   \n",
       "75%     94.000000    2.000000     0.000000    4.000000   15.000000   \n",
       "max    264.000000    4.000000     1.000000    6.000000   20.000000   \n",
       "\n",
       "         big_club  new_signing  \n",
       "count  461.000000   461.000000  \n",
       "mean     0.303688     0.145336  \n",
       "std      0.460349     0.352822  \n",
       "min      0.000000     0.000000  \n",
       "25%      0.000000     0.000000  \n",
       "50%      0.000000     0.000000  \n",
       "75%      1.000000     0.000000  \n",
       "max      1.000000     1.000000  "
      ]
     },
     "execution_count": 7,
     "metadata": {},
     "output_type": "execute_result"
    }
   ],
   "source": [
    "df.describe()"
   ]
  },
  {
   "cell_type": "code",
   "execution_count": 8,
   "id": "10e5105e-2f44-4b8f-940b-5d93cfe40b70",
   "metadata": {},
   "outputs": [],
   "source": [
    "import matplotlib.pyplot as plt\n",
    "import seaborn as sns"
   ]
  },
  {
   "cell_type": "code",
   "execution_count": 9,
   "id": "8b385f53-b922-4383-86a0-21b7abb3b0ab",
   "metadata": {},
   "outputs": [
    {
     "data": {
      "text/plain": [
       "<Axes: xlabel='club'>"
      ]
     },
     "execution_count": 9,
     "metadata": {},
     "output_type": "execute_result"
    },
    {
     "data": {
      "image/png": "[encoded data removed]",
      "text/plain": [
       "<Figure size 640x480 with 1 Axes>"
      ]
     },
     "metadata": {},
     "output_type": "display_data"
    }
   ],
   "source": [
    "df['club'].value_counts().plot(kind = 'bar')"
   ]
  },
  {
   "cell_type": "code",
   "execution_count": 10,
   "id": "5166abbd-09dd-4bdd-bd3a-e31d95a33918",
   "metadata": {},
   "outputs": [
    {
     "data": {
      "text/plain": [
       "<Axes: xlabel='age'>"
      ]
     },
     "execution_count": 10,
     "metadata": {},
     "output_type": "execute_result"
    },
    {
     "data": {
      "image/png": "[encoded data removed]",
      "text/plain": [
       "<Figure size 640x480 with 1 Axes>"
      ]
     },
     "metadata": {},
     "output_type": "display_data"
    }
   ],
   "source": [
    "df['age'].value_counts().plot(kind = 'bar')"
   ]
  },
  {
   "cell_type": "code",
   "execution_count": 11,
   "id": "82b60787-ce49-47f3-ade3-dae66e3832f2",
   "metadata": {},
   "outputs": [
    {
     "data": {
      "text/plain": [
       "<Axes: xlabel='position'>"
      ]
     },
     "execution_count": 11,
     "metadata": {},
     "output_type": "execute_result"
    },
    {
     "data": {
      "image/png": "[encoded data removed]",
      "text/plain": [
       "<Figure size 640x480 with 1 Axes>"
      ]
     },
     "metadata": {},
     "output_type": "display_data"
    }
   ],
   "source": [
    "df['position'].value_counts().plot(kind = 'bar')"
   ]
  },
  {
   "cell_type": "code",
   "execution_count": 12,
   "id": "d3ee846f-7014-421c-aa81-1faf5685bf29",
   "metadata": {},
   "outputs": [
    {
     "data": {
      "text/plain": [
       "nationality\n",
       "England                156\n",
       "Spain                   28\n",
       "France                  25\n",
       "Netherlands             20\n",
       "Belgium                 18\n",
       "                      ... \n",
       "Benin                    1\n",
       "Bermuda                  1\n",
       "Trinidad and Tobago      1\n",
       "Slovenia                 1\n",
       "New Zealand              1\n",
       "Name: count, Length: 61, dtype: int64"
      ]
     },
     "execution_count": 12,
     "metadata": {},
     "output_type": "execute_result"
    }
   ],
   "source": [
    "df['nationality'].value_counts()"
   ]
  },
  {
   "cell_type": "code",
   "execution_count": null,
   "id": "d6d2c798-f839-40a2-b038-019b103fe603",
   "metadata": {},
   "outputs": [],
   "source": []
  },
  {
   "cell_type": "code",
   "execution_count": 13,
   "id": "21c6d586-611f-4ffb-adb4-770cf80157ec",
   "metadata": {},
   "outputs": [
    {
     "data": {
      "text/plain": [
       "<Axes: xlabel='position_cat'>"
      ]
     },
     "execution_count": 13,
     "metadata": {},
     "output_type": "execute_result"
    },
    {
     "data": {
      "image/png": "[encoded data removed]",
      "text/plain": [
       "<Figure size 640x480 with 1 Axes>"
      ]
     },
     "metadata": {},
     "output_type": "display_data"
    }
   ],
   "source": [
    "df['position_cat'].value_counts().plot(kind = 'bar')"
   ]
  },
  {
   "cell_type": "code",
   "execution_count": 14,
   "id": "882df09c-ccfc-4389-be50-615fc99e6017",
   "metadata": {},
   "outputs": [
    {
     "data": {
      "text/plain": [
       "<Axes: xlabel='new_foreign'>"
      ]
     },
     "execution_count": 14,
     "metadata": {},
     "output_type": "execute_result"
    },
    {
     "data": {
      "image/png": "[encoded data removed]",
      "text/plain": [
       "<Figure size 640x480 with 1 Axes>"
      ]
     },
     "metadata": {},
     "output_type": "display_data"
    }
   ],
   "source": [
    "df['new_foreign'].value_counts().plot(kind = 'bar')"
   ]
  },
  {
   "cell_type": "code",
   "execution_count": 15,
   "id": "afb033b2-2f2d-4904-9548-8c7f7a8f5407",
   "metadata": {},
   "outputs": [
    {
     "data": {
      "text/plain": [
       "<Axes: xlabel='age_cat'>"
      ]
     },
     "execution_count": 15,
     "metadata": {},
     "output_type": "execute_result"
    },
    {
     "data": {
      "image/png": "[encoded data removed]",
      "text/plain": [
       "<Figure size 640x480 with 1 Axes>"
      ]
     },
     "metadata": {},
     "output_type": "display_data"
    }
   ],
   "source": [
    "df['age_cat'].value_counts().plot(kind = 'bar')"
   ]
  },
  {
   "cell_type": "code",
   "execution_count": 16,
   "id": "be4fef7c-64d2-4eff-bad7-00725434e940",
   "metadata": {},
   "outputs": [
    {
     "data": {
      "text/plain": [
       "<Axes: xlabel='club_id'>"
      ]
     },
     "execution_count": 16,
     "metadata": {},
     "output_type": "execute_result"
    },
    {
     "data": {
      "image/png": "[encoded data removed]",
      "text/plain": [
       "<Figure size 640x480 with 1 Axes>"
      ]
     },
     "metadata": {},
     "output_type": "display_data"
    }
   ],
   "source": [
    "df['club_id'].value_counts().plot(kind = 'bar')"
   ]
  },
  {
   "cell_type": "code",
   "execution_count": 17,
   "id": "48427a72-b3a0-4f0f-9fd7-9ac20c5ec41c",
   "metadata": {},
   "outputs": [
    {
     "data": {
      "text/plain": [
       "<Axes: xlabel='big_club'>"
      ]
     },
     "execution_count": 17,
     "metadata": {},
     "output_type": "execute_result"
    },
    {
     "data": {
      "image/png": "[encoded data removed]",
      "text/plain": [
       "<Figure size 640x480 with 1 Axes>"
      ]
     },
     "metadata": {},
     "output_type": "display_data"
    }
   ],
   "source": [
    "df['big_club'].value_counts().plot(kind = 'bar')"
   ]
  },
  {
   "cell_type": "code",
   "execution_count": 18,
   "id": "76e1977f-0016-48c2-bd47-7eb610c1fa93",
   "metadata": {},
   "outputs": [
    {
     "data": {
      "text/plain": [
       "<Axes: xlabel='new_signing'>"
      ]
     },
     "execution_count": 18,
     "metadata": {},
     "output_type": "execute_result"
    },
    {
     "data": {
      "image/png": "[encoded data removed]",
      "text/plain": [
       "<Figure size 640x480 with 1 Axes>"
      ]
     },
     "metadata": {},
     "output_type": "display_data"
    }
   ],
   "source": [
    "df['new_signing'].value_counts().plot(kind = 'bar')"
   ]
  },
  {
   "cell_type": "markdown",
   "id": "7c86af91-c5a8-42fc-b65f-6e5da77485f6",
   "metadata": {},
   "source": [
    "## Outlier Detection And Removal using IQR method"
   ]
  },
  {
   "cell_type": "code",
   "execution_count": 19,
   "id": "6fcc9696-6d4f-450b-9eb1-15b1715fece7",
   "metadata": {},
   "outputs": [
    {
     "data": {
      "text/plain": [
       "<Axes: ylabel='market_value'>"
      ]
     },
     "execution_count": 19,
     "metadata": {},
     "output_type": "execute_result"
    },
    {
     "data": {
      "image/png": "[encoded data removed]",
      "text/plain": [
       "<Figure size 640x480 with 1 Axes>"
      ]
     },
     "metadata": {},
     "output_type": "display_data"
    }
   ],
   "source": [
    "sns.boxplot(df['market_value'])"
   ]
  },
  {
   "cell_type": "code",
   "execution_count": 20,
   "id": "f7934df1-71cd-4ca0-b692-4af4747c6677",
   "metadata": {},
   "outputs": [
    {
     "name": "stdout",
     "output_type": "stream",
     "text": [
      "25th Percentile: 3.0\n",
      "75th Percentile: 15.0\n",
      "Upper Limit: 33.0 Lower Limit: -15.0\n",
      "                name     club  age position  position_cat  market_value  \\\n",
      "0     Alexis Sanchez  Arsenal   28       LW             1          33.0   \n",
      "1         Mesut Ozil  Arsenal   28       AM             1          33.0   \n",
      "2          Petr Cech  Arsenal   35       GK             4           7.0   \n",
      "3       Theo Walcott  Arsenal   28       RW             1          20.0   \n",
      "4  Laurent Koscielny  Arsenal   31       CB             3          22.0   \n",
      "\n",
      "   page_views  fpl_value fpl_sel  fpl_points  region     nationality  \\\n",
      "0        4329       12.0  17.10%         264     3.0           Chile   \n",
      "1        4395        9.5   5.60%         167     2.0         Germany   \n",
      "2        1529        5.5   5.90%         134     2.0  Czech Republic   \n",
      "3        2393        7.5   1.50%         122     1.0         England   \n",
      "4         912        6.0   0.70%         121     2.0          France   \n",
      "\n",
      "   new_foreign  age_cat  club_id  big_club  new_signing  \n",
      "0            0        4        1         1            0  \n",
      "1            0        4        1         1            0  \n",
      "2            0        6        1         1            0  \n",
      "3            0        4        1         1            0  \n",
      "4            0        4        1         1            0  \n"
     ]
    }
   ],
   "source": [
    "# Calculate the 25th and 75th percentiles\n",
    "percentile25 = df['market_value'].quantile(0.25)\n",
    "print(\"25th Percentile:\", percentile25)\n",
    "\n",
    "percentile75 = df['market_value'].quantile(0.75)\n",
    "print(\"75th Percentile:\", percentile75)\n",
    "\n",
    "# Calculate the interquartile range (IQR)\n",
    "iqr = percentile75 - percentile25\n",
    "\n",
    "# Calculate the upper and lower limits for outliers\n",
    "uplimit = percentile75 + 1.5 * iqr\n",
    "lolimit = percentile25 - 1.5 * iqr\n",
    "print(\"Upper Limit:\", uplimit, \"Lower Limit:\", lolimit)\n",
    "\n",
    "# Create a copy of the DataFrame\n",
    "new_df = df.copy()\n",
    "\n",
    "# Capping the outliers\n",
    "new_df['market_value'] = np.where(\n",
    "    new_df['market_value'] > uplimit, uplimit,\n",
    "    np.where(new_df['market_value'] < lolimit, lolimit, new_df['market_value'])\n",
    ")\n",
    "\n",
    "# Display the first few rows of the new DataFrame to check the changes\n",
    "print(new_df.head())"
   ]
  },
  {
   "cell_type": "code",
   "execution_count": 21,
   "id": "c02f789a-17ad-4c7d-8164-33e3c7f22e1f",
   "metadata": {},
   "outputs": [],
   "source": [
    "df = new_df.copy()"
   ]
  },
  {
   "cell_type": "code",
   "execution_count": 22,
   "id": "bee9e12b-7474-4a94-8f59-30d7bb5b25a5",
   "metadata": {},
   "outputs": [
    {
     "data": {
      "text/plain": [
       "<Axes: ylabel='market_value'>"
      ]
     },
     "execution_count": 22,
     "metadata": {},
     "output_type": "execute_result"
    },
    {
     "data": {
      "image/png": "[encoded data removed]",
      "text/plain": [
       "<Figure size 640x480 with 1 Axes>"
      ]
     },
     "metadata": {},
     "output_type": "display_data"
    }
   ],
   "source": [
    "sns.boxplot(df['market_value'])"
   ]
  },
  {
   "cell_type": "code",
   "execution_count": 23,
   "id": "37f0624f-146d-4630-b7b6-dec24445cc00",
   "metadata": {},
   "outputs": [
    {
     "data": {
      "text/plain": [
       "<Axes: ylabel='page_views'>"
      ]
     },
     "execution_count": 23,
     "metadata": {},
     "output_type": "execute_result"
    },
    {
     "data": {
      "image/png": "[encoded data removed]",
      "text/plain": [
       "<Figure size 640x480 with 1 Axes>"
      ]
     },
     "metadata": {},
     "output_type": "display_data"
    }
   ],
   "source": [
    "sns.boxplot(df['page_views'])"
   ]
  },
  {
   "cell_type": "code",
   "execution_count": 24,
   "id": "39a245ce-938c-48b9-81f7-1defe9ba66c7",
   "metadata": {},
   "outputs": [
    {
     "name": "stdout",
     "output_type": "stream",
     "text": [
      "25th Percentile: 220.0\n",
      "75th Percentile: 896.0\n",
      "Upper Limit: 1910.0 Lower Limit: -794.0\n",
      "                name     club  age position  position_cat  market_value  \\\n",
      "0     Alexis Sanchez  Arsenal   28       LW             1          33.0   \n",
      "1         Mesut Ozil  Arsenal   28       AM             1          33.0   \n",
      "2          Petr Cech  Arsenal   35       GK             4           7.0   \n",
      "3       Theo Walcott  Arsenal   28       RW             1          20.0   \n",
      "4  Laurent Koscielny  Arsenal   31       CB             3          22.0   \n",
      "\n",
      "   page_views  fpl_value fpl_sel  fpl_points  region     nationality  \\\n",
      "0      1910.0       12.0  17.10%         264     3.0           Chile   \n",
      "1      1910.0        9.5   5.60%         167     2.0         Germany   \n",
      "2      1529.0        5.5   5.90%         134     2.0  Czech Republic   \n",
      "3      1910.0        7.5   1.50%         122     1.0         England   \n",
      "4       912.0        6.0   0.70%         121     2.0          France   \n",
      "\n",
      "   new_foreign  age_cat  club_id  big_club  new_signing  \n",
      "0            0        4        1         1            0  \n",
      "1            0        4        1         1            0  \n",
      "2            0        6        1         1            0  \n",
      "3            0        4        1         1            0  \n",
      "4            0        4        1         1            0  \n"
     ]
    }
   ],
   "source": [
    "# Calculate the 25th and 75th percentiles\n",
    "percentile25 = df['page_views'].quantile(0.25)\n",
    "print(\"25th Percentile:\", percentile25)\n",
    "\n",
    "percentile75 = df['page_views'].quantile(0.75)\n",
    "print(\"75th Percentile:\", percentile75)\n",
    "\n",
    "# Calculate the interquartile range (IQR)\n",
    "iqr = percentile75 - percentile25\n",
    "\n",
    "# Calculate the upper and lower limits for outliers\n",
    "uplimit = percentile75 + 1.5 * iqr\n",
    "lolimit = percentile25 - 1.5 * iqr\n",
    "print(\"Upper Limit:\", uplimit, \"Lower Limit:\", lolimit)\n",
    "\n",
    "# Create a copy of the DataFrame\n",
    "new_df = df.copy()\n",
    "\n",
    "# Capping the outliers\n",
    "new_df['page_views'] = np.where(\n",
    "    new_df['page_views'] > uplimit, uplimit,\n",
    "    np.where(new_df['page_views'] < lolimit, lolimit, new_df['page_views'])\n",
    ")\n",
    "\n",
    "# Display the first few rows of the new DataFrame to check the changes\n",
    "print(new_df.head())"
   ]
  },
  {
   "cell_type": "code",
   "execution_count": 25,
   "id": "0d483547-377b-47f4-a960-4cd20df6e039",
   "metadata": {},
   "outputs": [],
   "source": [
    "df = new_df.copy()"
   ]
  },
  {
   "cell_type": "code",
   "execution_count": 26,
   "id": "bee298e6-de96-4378-91ab-544f23fb12cb",
   "metadata": {},
   "outputs": [
    {
     "data": {
      "text/plain": [
       "<Axes: ylabel='page_views'>"
      ]
     },
     "execution_count": 26,
     "metadata": {},
     "output_type": "execute_result"
    },
    {
     "data": {
      "image/png": "[encoded data removed]",
      "text/plain": [
       "<Figure size 640x480 with 1 Axes>"
      ]
     },
     "metadata": {},
     "output_type": "display_data"
    }
   ],
   "source": [
    "sns.boxplot(df['page_views'])"
   ]
  },
  {
   "cell_type": "code",
   "execution_count": 27,
   "id": "fa502af6-4e9d-4d19-a688-3e6d5e62c0c2",
   "metadata": {},
   "outputs": [
    {
     "data": {
      "text/html": [
       "<div>\n",
       "<style scoped>\n",
       "    .dataframe tbody tr th:only-of-type {\n",
       "        vertical-align: middle;\n",
       "    }\n",
       "\n",
       "    .dataframe tbody tr th {\n",
       "        vertical-align: top;\n",
       "    }\n",
       "\n",
       "    .dataframe thead th {\n",
       "        text-align: right;\n",
       "    }\n",
       "</style>\n",
       "<table border=\"1\" class=\"dataframe\">\n",
       "  <thead>\n",
       "    <tr style=\"text-align: right;\">\n",
       "      <th></th>\n",
       "      <th>name</th>\n",
       "      <th>club</th>\n",
       "      <th>age</th>\n",
       "      <th>position</th>\n",
       "      <th>position_cat</th>\n",
       "      <th>market_value</th>\n",
       "      <th>page_views</th>\n",
       "      <th>fpl_value</th>\n",
       "      <th>fpl_sel</th>\n",
       "      <th>fpl_points</th>\n",
       "      <th>region</th>\n",
       "      <th>nationality</th>\n",
       "      <th>new_foreign</th>\n",
       "      <th>age_cat</th>\n",
       "      <th>club_id</th>\n",
       "      <th>big_club</th>\n",
       "      <th>new_signing</th>\n",
       "    </tr>\n",
       "  </thead>\n",
       "  <tbody>\n",
       "    <tr>\n",
       "      <th>0</th>\n",
       "      <td>Alexis Sanchez</td>\n",
       "      <td>Arsenal</td>\n",
       "      <td>28</td>\n",
       "      <td>LW</td>\n",
       "      <td>1</td>\n",
       "      <td>33.0</td>\n",
       "      <td>1910.0</td>\n",
       "      <td>12.0</td>\n",
       "      <td>17.10%</td>\n",
       "      <td>264</td>\n",
       "      <td>3.0</td>\n",
       "      <td>Chile</td>\n",
       "      <td>0</td>\n",
       "      <td>4</td>\n",
       "      <td>1</td>\n",
       "      <td>1</td>\n",
       "      <td>0</td>\n",
       "    </tr>\n",
       "    <tr>\n",
       "      <th>1</th>\n",
       "      <td>Mesut Ozil</td>\n",
       "      <td>Arsenal</td>\n",
       "      <td>28</td>\n",
       "      <td>AM</td>\n",
       "      <td>1</td>\n",
       "      <td>33.0</td>\n",
       "      <td>1910.0</td>\n",
       "      <td>9.5</td>\n",
       "      <td>5.60%</td>\n",
       "      <td>167</td>\n",
       "      <td>2.0</td>\n",
       "      <td>Germany</td>\n",
       "      <td>0</td>\n",
       "      <td>4</td>\n",
       "      <td>1</td>\n",
       "      <td>1</td>\n",
       "      <td>0</td>\n",
       "    </tr>\n",
       "  </tbody>\n",
       "</table>\n",
       "</div>"
      ],
      "text/plain": [
       "             name     club  age position  position_cat  market_value  \\\n",
       "0  Alexis Sanchez  Arsenal   28       LW             1          33.0   \n",
       "1      Mesut Ozil  Arsenal   28       AM             1          33.0   \n",
       "\n",
       "   page_views  fpl_value fpl_sel  fpl_points  region nationality  new_foreign  \\\n",
       "0      1910.0       12.0  17.10%         264     3.0       Chile            0   \n",
       "1      1910.0        9.5   5.60%         167     2.0     Germany            0   \n",
       "\n",
       "   age_cat  club_id  big_club  new_signing  \n",
       "0        4        1         1            0  \n",
       "1        4        1         1            0  "
      ]
     },
     "execution_count": 27,
     "metadata": {},
     "output_type": "execute_result"
    }
   ],
   "source": [
    "df.head(2)"
   ]
  },
  {
   "cell_type": "code",
   "execution_count": 28,
   "id": "c252e03f-6223-4c2e-979c-d6ffa2af2726",
   "metadata": {},
   "outputs": [
    {
     "data": {
      "text/plain": [
       "<Axes: ylabel='fpl_value'>"
      ]
     },
     "execution_count": 28,
     "metadata": {},
     "output_type": "execute_result"
    },
    {
     "data": {
      "image/png": "[encoded data removed]",
      "text/plain": [
       "<Figure size 640x480 with 1 Axes>"
      ]
     },
     "metadata": {},
     "output_type": "display_data"
    }
   ],
   "source": [
    "sns.boxplot(df['fpl_value'])"
   ]
  },
  {
   "cell_type": "code",
   "execution_count": 33,
   "id": "b6d3dbd8-9e69-4c9e-bee1-8cce34c6ac72",
   "metadata": {},
   "outputs": [
    {
     "name": "stdout",
     "output_type": "stream",
     "text": [
      "25th Percentile: 4.5\n",
      "75th Percentile: 5.5\n",
      "Upper Limit: 7.0 Lower Limit: 3.0\n",
      "                name     club  age position  position_cat  market_value  \\\n",
      "0     Alexis Sanchez  Arsenal   28       LW             1          33.0   \n",
      "1         Mesut Ozil  Arsenal   28       AM             1          33.0   \n",
      "2          Petr Cech  Arsenal   35       GK             4           7.0   \n",
      "3       Theo Walcott  Arsenal   28       RW             1          20.0   \n",
      "4  Laurent Koscielny  Arsenal   31       CB             3          22.0   \n",
      "\n",
      "   page_views  fpl_value fpl_sel  fpl_points  region     nationality  \\\n",
      "0      1910.0        7.0  17.10%         264     3.0           Chile   \n",
      "1      1910.0        7.0   5.60%         167     2.0         Germany   \n",
      "2      1529.0        5.5   5.90%         134     2.0  Czech Republic   \n",
      "3      1910.0        7.0   1.50%         122     1.0         England   \n",
      "4       912.0        6.0   0.70%         121     2.0          France   \n",
      "\n",
      "   new_foreign  age_cat  club_id  big_club  new_signing  \n",
      "0            0        4        1         1            0  \n",
      "1            0        4        1         1            0  \n",
      "2            0        6        1         1            0  \n",
      "3            0        4        1         1            0  \n",
      "4            0        4        1         1            0  \n"
     ]
    }
   ],
   "source": [
    "# Calculate the 25th and 75th percentiles\n",
    "percentile25 = df['fpl_value'].quantile(0.25)\n",
    "print(\"25th Percentile:\", percentile25)\n",
    "\n",
    "percentile75 = df['fpl_value'].quantile(0.75)\n",
    "print(\"75th Percentile:\", percentile75)\n",
    "\n",
    "# Calculate the interquartile range (IQR)\n",
    "iqr = percentile75 - percentile25\n",
    "\n",
    "# Calculate the upper and lower limits for outliers\n",
    "uplimit = percentile75 + 1.5 * iqr\n",
    "lolimit = percentile25 - 1.5 * iqr\n",
    "print(\"Upper Limit:\", uplimit, \"Lower Limit:\", lolimit)\n",
    "\n",
    "# Create a copy of the DataFrame\n",
    "new_df = df.copy()\n",
    "\n",
    "# Capping the outliers\n",
    "new_df['fpl_value'] = np.where(\n",
    "    new_df['fpl_value'] > uplimit, uplimit,\n",
    "    np.where(new_df['fpl_value'] < lolimit, lolimit, new_df['fpl_value'])\n",
    ")\n",
    "\n",
    "# Display the first few rows of the new DataFrame to check the changes\n",
    "print(new_df.head())"
   ]
  },
  {
   "cell_type": "code",
   "execution_count": 34,
   "id": "72e7b877-19f9-45ce-908f-9e14cbe9c462",
   "metadata": {},
   "outputs": [],
   "source": [
    "df = new_df.copy()"
   ]
  },
  {
   "cell_type": "code",
   "execution_count": 35,
   "id": "db8afe84-21db-4a7b-bda9-4583a8dbd772",
   "metadata": {},
   "outputs": [
    {
     "data": {
      "text/plain": [
       "<Axes: ylabel='fpl_value'>"
      ]
     },
     "execution_count": 35,
     "metadata": {},
     "output_type": "execute_result"
    },
    {
     "data": {
      "image/png": "[encoded data removed]",
      "text/plain": [
       "<Figure size 640x480 with 1 Axes>"
      ]
     },
     "metadata": {},
     "output_type": "display_data"
    }
   ],
   "source": [
    "sns.boxplot(df['fpl_value'])"
   ]
  },
  {
   "cell_type": "code",
   "execution_count": 29,
   "id": "c436c6d9-1c8f-4a53-b2a4-8aa36b671e28",
   "metadata": {},
   "outputs": [
    {
     "data": {
      "text/plain": [
       "<Axes: ylabel='fpl_points'>"
      ]
     },
     "execution_count": 29,
     "metadata": {},
     "output_type": "execute_result"
    },
    {
     "data": {
      "image/png": "[encoded data removed]",
      "text/plain": [
       "<Figure size 640x480 with 1 Axes>"
      ]
     },
     "metadata": {},
     "output_type": "display_data"
    }
   ],
   "source": [
    "sns.boxplot(df['fpl_points'])"
   ]
  },
  {
   "cell_type": "code",
   "execution_count": 36,
   "id": "dded962b-ef75-467d-b435-a6ab7c686c54",
   "metadata": {},
   "outputs": [
    {
     "name": "stdout",
     "output_type": "stream",
     "text": [
      "25th Percentile: 5.0\n",
      "75th Percentile: 94.0\n",
      "Upper Limit: 227.5 Lower Limit: -128.5\n",
      "                name     club  age position  position_cat  market_value  \\\n",
      "0     Alexis Sanchez  Arsenal   28       LW             1          33.0   \n",
      "1         Mesut Ozil  Arsenal   28       AM             1          33.0   \n",
      "2          Petr Cech  Arsenal   35       GK             4           7.0   \n",
      "3       Theo Walcott  Arsenal   28       RW             1          20.0   \n",
      "4  Laurent Koscielny  Arsenal   31       CB             3          22.0   \n",
      "\n",
      "   page_views  fpl_value fpl_sel  fpl_points  region     nationality  \\\n",
      "0      1910.0        7.0  17.10%       227.5     3.0           Chile   \n",
      "1      1910.0        7.0   5.60%       167.0     2.0         Germany   \n",
      "2      1529.0        5.5   5.90%       134.0     2.0  Czech Republic   \n",
      "3      1910.0        7.0   1.50%       122.0     1.0         England   \n",
      "4       912.0        6.0   0.70%       121.0     2.0          France   \n",
      "\n",
      "   new_foreign  age_cat  club_id  big_club  new_signing  \n",
      "0            0        4        1         1            0  \n",
      "1            0        4        1         1            0  \n",
      "2            0        6        1         1            0  \n",
      "3            0        4        1         1            0  \n",
      "4            0        4        1         1            0  \n"
     ]
    }
   ],
   "source": [
    "# Calculate the 25th and 75th percentiles\n",
    "percentile25 = df['fpl_points'].quantile(0.25)\n",
    "print(\"25th Percentile:\", percentile25)\n",
    "\n",
    "percentile75 = df['fpl_points'].quantile(0.75)\n",
    "print(\"75th Percentile:\", percentile75)\n",
    "\n",
    "# Calculate the interquartile range (IQR)\n",
    "iqr = percentile75 - percentile25\n",
    "\n",
    "# Calculate the upper and lower limits for outliers\n",
    "uplimit = percentile75 + 1.5 * iqr\n",
    "lolimit = percentile25 - 1.5 * iqr\n",
    "print(\"Upper Limit:\", uplimit, \"Lower Limit:\", lolimit)\n",
    "\n",
    "# Create a copy of the DataFrame\n",
    "new_df = df.copy()\n",
    "\n",
    "# Capping the outliers\n",
    "new_df['fpl_points'] = np.where(\n",
    "    new_df['fpl_points'] > uplimit, uplimit,\n",
    "    np.where(new_df['fpl_points'] < lolimit, lolimit, new_df['fpl_points'])\n",
    ")\n",
    "\n",
    "# Display the first few rows of the new DataFrame to check the changes\n",
    "print(new_df.head())"
   ]
  },
  {
   "cell_type": "code",
   "execution_count": 37,
   "id": "8734979a-e0a0-4390-812b-43c7aabd9209",
   "metadata": {},
   "outputs": [],
   "source": [
    "df = new_df.copy()"
   ]
  },
  {
   "cell_type": "code",
   "execution_count": 38,
   "id": "27eefdb8-a1dc-4eb0-be64-a6386aff496c",
   "metadata": {},
   "outputs": [
    {
     "data": {
      "text/plain": [
       "<Axes: ylabel='fpl_points'>"
      ]
     },
     "execution_count": 38,
     "metadata": {},
     "output_type": "execute_result"
    },
    {
     "data": {
      "image/png": "[encoded data removed]",
      "text/plain": [
       "<Figure size 640x480 with 1 Axes>"
      ]
     },
     "metadata": {},
     "output_type": "display_data"
    }
   ],
   "source": [
    "sns.boxplot(df['fpl_points'])"
   ]
  },
  {
   "cell_type": "code",
   "execution_count": 30,
   "id": "639d922d-e9e7-4be9-92e5-ae0e8adfae45",
   "metadata": {},
   "outputs": [
    {
     "data": {
      "text/plain": [
       "<Axes: ylabel='region'>"
      ]
     },
     "execution_count": 30,
     "metadata": {},
     "output_type": "execute_result"
    },
    {
     "data": {
      "image/png": "[encoded data removed]",
      "text/plain": [
       "<Figure size 640x480 with 1 Axes>"
      ]
     },
     "metadata": {},
     "output_type": "display_data"
    }
   ],
   "source": [
    "sns.boxplot(df['region'])"
   ]
  },
  {
   "cell_type": "code",
   "execution_count": 31,
   "id": "f16382b2-ef0d-44c6-b0a0-ab6689067d8f",
   "metadata": {},
   "outputs": [
    {
     "data": {
      "text/plain": [
       "<Axes: ylabel='age_cat'>"
      ]
     },
     "execution_count": 31,
     "metadata": {},
     "output_type": "execute_result"
    },
    {
     "data": {
      "image/png": "[encoded data removed]",
      "text/plain": [
       "<Figure size 640x480 with 1 Axes>"
      ]
     },
     "metadata": {},
     "output_type": "display_data"
    }
   ],
   "source": [
    "sns.boxplot(df['age_cat'])"
   ]
  },
  {
   "cell_type": "code",
   "execution_count": 39,
   "id": "b3436f8e-54af-4295-8164-cc7fae6c8a50",
   "metadata": {},
   "outputs": [
    {
     "data": {
      "text/html": [
       "<div>\n",
       "<style scoped>\n",
       "    .dataframe tbody tr th:only-of-type {\n",
       "        vertical-align: middle;\n",
       "    }\n",
       "\n",
       "    .dataframe tbody tr th {\n",
       "        vertical-align: top;\n",
       "    }\n",
       "\n",
       "    .dataframe thead th {\n",
       "        text-align: right;\n",
       "    }\n",
       "</style>\n",
       "<table border=\"1\" class=\"dataframe\">\n",
       "  <thead>\n",
       "    <tr style=\"text-align: right;\">\n",
       "      <th></th>\n",
       "      <th>name</th>\n",
       "      <th>club</th>\n",
       "      <th>age</th>\n",
       "      <th>position</th>\n",
       "      <th>position_cat</th>\n",
       "      <th>market_value</th>\n",
       "      <th>page_views</th>\n",
       "      <th>fpl_value</th>\n",
       "      <th>fpl_sel</th>\n",
       "      <th>fpl_points</th>\n",
       "      <th>region</th>\n",
       "      <th>nationality</th>\n",
       "      <th>new_foreign</th>\n",
       "      <th>age_cat</th>\n",
       "      <th>club_id</th>\n",
       "      <th>big_club</th>\n",
       "      <th>new_signing</th>\n",
       "    </tr>\n",
       "  </thead>\n",
       "  <tbody>\n",
       "    <tr>\n",
       "      <th>0</th>\n",
       "      <td>Alexis Sanchez</td>\n",
       "      <td>Arsenal</td>\n",
       "      <td>28</td>\n",
       "      <td>LW</td>\n",
       "      <td>1</td>\n",
       "      <td>33.0</td>\n",
       "      <td>1910.0</td>\n",
       "      <td>7.0</td>\n",
       "      <td>17.10%</td>\n",
       "      <td>227.5</td>\n",
       "      <td>3.0</td>\n",
       "      <td>Chile</td>\n",
       "      <td>0</td>\n",
       "      <td>4</td>\n",
       "      <td>1</td>\n",
       "      <td>1</td>\n",
       "      <td>0</td>\n",
       "    </tr>\n",
       "    <tr>\n",
       "      <th>1</th>\n",
       "      <td>Mesut Ozil</td>\n",
       "      <td>Arsenal</td>\n",
       "      <td>28</td>\n",
       "      <td>AM</td>\n",
       "      <td>1</td>\n",
       "      <td>33.0</td>\n",
       "      <td>1910.0</td>\n",
       "      <td>7.0</td>\n",
       "      <td>5.60%</td>\n",
       "      <td>167.0</td>\n",
       "      <td>2.0</td>\n",
       "      <td>Germany</td>\n",
       "      <td>0</td>\n",
       "      <td>4</td>\n",
       "      <td>1</td>\n",
       "      <td>1</td>\n",
       "      <td>0</td>\n",
       "    </tr>\n",
       "  </tbody>\n",
       "</table>\n",
       "</div>"
      ],
      "text/plain": [
       "             name     club  age position  position_cat  market_value  \\\n",
       "0  Alexis Sanchez  Arsenal   28       LW             1          33.0   \n",
       "1      Mesut Ozil  Arsenal   28       AM             1          33.0   \n",
       "\n",
       "   page_views  fpl_value fpl_sel  fpl_points  region nationality  new_foreign  \\\n",
       "0      1910.0        7.0  17.10%       227.5     3.0       Chile            0   \n",
       "1      1910.0        7.0   5.60%       167.0     2.0     Germany            0   \n",
       "\n",
       "   age_cat  club_id  big_club  new_signing  \n",
       "0        4        1         1            0  \n",
       "1        4        1         1            0  "
      ]
     },
     "execution_count": 39,
     "metadata": {},
     "output_type": "execute_result"
    }
   ],
   "source": [
    "df.head(2)"
   ]
  },
  {
   "cell_type": "code",
   "execution_count": 40,
   "id": "77b3d490-625e-4d19-ae4f-9fe95174ad33",
   "metadata": {},
   "outputs": [],
   "source": [
    "df['fpl_sel'] = df['fpl_sel'].str.replace('%', ' ', regex=False)\n"
   ]
  },
  {
   "cell_type": "code",
   "execution_count": 41,
   "id": "1585fe1f-7469-4364-a2ac-9bbaf46cc06c",
   "metadata": {},
   "outputs": [
    {
     "data": {
      "text/html": [
       "<div>\n",
       "<style scoped>\n",
       "    .dataframe tbody tr th:only-of-type {\n",
       "        vertical-align: middle;\n",
       "    }\n",
       "\n",
       "    .dataframe tbody tr th {\n",
       "        vertical-align: top;\n",
       "    }\n",
       "\n",
       "    .dataframe thead th {\n",
       "        text-align: right;\n",
       "    }\n",
       "</style>\n",
       "<table border=\"1\" class=\"dataframe\">\n",
       "  <thead>\n",
       "    <tr style=\"text-align: right;\">\n",
       "      <th></th>\n",
       "      <th>name</th>\n",
       "      <th>club</th>\n",
       "      <th>age</th>\n",
       "      <th>position</th>\n",
       "      <th>position_cat</th>\n",
       "      <th>market_value</th>\n",
       "      <th>page_views</th>\n",
       "      <th>fpl_value</th>\n",
       "      <th>fpl_sel</th>\n",
       "      <th>fpl_points</th>\n",
       "      <th>region</th>\n",
       "      <th>nationality</th>\n",
       "      <th>new_foreign</th>\n",
       "      <th>age_cat</th>\n",
       "      <th>club_id</th>\n",
       "      <th>big_club</th>\n",
       "      <th>new_signing</th>\n",
       "    </tr>\n",
       "  </thead>\n",
       "  <tbody>\n",
       "    <tr>\n",
       "      <th>0</th>\n",
       "      <td>Alexis Sanchez</td>\n",
       "      <td>Arsenal</td>\n",
       "      <td>28</td>\n",
       "      <td>LW</td>\n",
       "      <td>1</td>\n",
       "      <td>33.0</td>\n",
       "      <td>1910.0</td>\n",
       "      <td>7.0</td>\n",
       "      <td>17.10</td>\n",
       "      <td>227.5</td>\n",
       "      <td>3.0</td>\n",
       "      <td>Chile</td>\n",
       "      <td>0</td>\n",
       "      <td>4</td>\n",
       "      <td>1</td>\n",
       "      <td>1</td>\n",
       "      <td>0</td>\n",
       "    </tr>\n",
       "    <tr>\n",
       "      <th>1</th>\n",
       "      <td>Mesut Ozil</td>\n",
       "      <td>Arsenal</td>\n",
       "      <td>28</td>\n",
       "      <td>AM</td>\n",
       "      <td>1</td>\n",
       "      <td>33.0</td>\n",
       "      <td>1910.0</td>\n",
       "      <td>7.0</td>\n",
       "      <td>5.60</td>\n",
       "      <td>167.0</td>\n",
       "      <td>2.0</td>\n",
       "      <td>Germany</td>\n",
       "      <td>0</td>\n",
       "      <td>4</td>\n",
       "      <td>1</td>\n",
       "      <td>1</td>\n",
       "      <td>0</td>\n",
       "    </tr>\n",
       "  </tbody>\n",
       "</table>\n",
       "</div>"
      ],
      "text/plain": [
       "             name     club  age position  position_cat  market_value  \\\n",
       "0  Alexis Sanchez  Arsenal   28       LW             1          33.0   \n",
       "1      Mesut Ozil  Arsenal   28       AM             1          33.0   \n",
       "\n",
       "   page_views  fpl_value fpl_sel  fpl_points  region nationality  new_foreign  \\\n",
       "0      1910.0        7.0  17.10        227.5     3.0       Chile            0   \n",
       "1      1910.0        7.0   5.60        167.0     2.0     Germany            0   \n",
       "\n",
       "   age_cat  club_id  big_club  new_signing  \n",
       "0        4        1         1            0  \n",
       "1        4        1         1            0  "
      ]
     },
     "execution_count": 41,
     "metadata": {},
     "output_type": "execute_result"
    }
   ],
   "source": [
    "df.head(2)"
   ]
  },
  {
   "cell_type": "code",
   "execution_count": 70,
   "id": "d944e2cf-b3c4-48d5-af59-8cf930395b95",
   "metadata": {},
   "outputs": [
    {
     "data": {
      "text/plain": [
       "name            0\n",
       "club            0\n",
       "age             0\n",
       "position        0\n",
       "position_cat    0\n",
       "market_value    0\n",
       "page_views      0\n",
       "fpl_value       0\n",
       "fpl_sel         0\n",
       "fpl_points      0\n",
       "region          1\n",
       "nationality     0\n",
       "new_foreign     0\n",
       "age_cat         0\n",
       "club_id         0\n",
       "big_club        0\n",
       "new_signing     0\n",
       "dtype: int64"
      ]
     },
     "execution_count": 70,
     "metadata": {},
     "output_type": "execute_result"
    }
   ],
   "source": [
    "df.isna().sum()"
   ]
  },
  {
   "cell_type": "code",
   "execution_count": 72,
   "id": "67594cd1-cd6f-47b7-90df-8bd89d002185",
   "metadata": {},
   "outputs": [],
   "source": [
    "df.dropna(inplace = True)"
   ]
  },
  {
   "cell_type": "code",
   "execution_count": 73,
   "id": "4df76c6b-e9e9-4cb1-b3c4-ee00061faec3",
   "metadata": {},
   "outputs": [
    {
     "data": {
      "text/plain": [
       "name            0\n",
       "club            0\n",
       "age             0\n",
       "position        0\n",
       "position_cat    0\n",
       "market_value    0\n",
       "page_views      0\n",
       "fpl_value       0\n",
       "fpl_sel         0\n",
       "fpl_points      0\n",
       "region          0\n",
       "nationality     0\n",
       "new_foreign     0\n",
       "age_cat         0\n",
       "club_id         0\n",
       "big_club        0\n",
       "new_signing     0\n",
       "dtype: int64"
      ]
     },
     "execution_count": 73,
     "metadata": {},
     "output_type": "execute_result"
    }
   ],
   "source": [
    "df.isna().sum()"
   ]
  },
  {
   "cell_type": "markdown",
   "id": "9a4d0e44-7d75-415a-923e-a67a13bdae0c",
   "metadata": {},
   "source": [
    "## Findings and Analysis"
   ]
  },
  {
   "cell_type": "code",
   "execution_count": null,
   "id": "ccd74e27-1ebb-45d3-a847-7c291367c731",
   "metadata": {},
   "outputs": [],
   "source": [
    "# Arsenal, Everton, Huddersfield in this clubs high players are belong\n",
    "# Burnley is the club where very low player belongs\n",
    "\n",
    "# Minimum Age of a Player is 17 and Maximum age is 38\n",
    "# 27 aged players are high in count \n",
    "\n",
    "\n",
    "# Most of the Player play CB position \n",
    "# less play play RM,SS, LM position\n",
    "\n",
    "# very few player belongs to Big Club\n",
    "## England palyers are high in numbers\n",
    "# Very few players have new signing "
   ]
  },
  {
   "cell_type": "markdown",
   "id": "7150a58a-ef74-4a6e-a282-b88933a572b0",
   "metadata": {},
   "source": [
    "### Some Problems With Dataset"
   ]
  },
  {
   "cell_type": "markdown",
   "id": "56d2bd22-902c-4e2b-b549-2bdfec89ea5d",
   "metadata": {},
   "source": [
    "#### Outliers:- IN data there are some columns with outliers, to fix it, we used the IQR(interquartile range) Method\n",
    "\n",
    "#### We create a pipeline with three steps  ONE HOT ENCODER,  STANDARD SCALER AND FIT ML Models "
   ]
  },
  {
   "cell_type": "markdown",
   "id": "e1db2ab9-30ea-4efe-b23d-0509e5f2d158",
   "metadata": {},
   "source": [
    "# ML Part"
   ]
  },
  {
   "cell_type": "code",
   "execution_count": 74,
   "id": "043e7209-77eb-4b61-b5c0-8e4ae3da0804",
   "metadata": {},
   "outputs": [],
   "source": [
    "from sklearn.compose import ColumnTransformer\n",
    "from sklearn.preprocessing import OneHotEncoder, StandardScaler\n",
    "from sklearn.pipeline import Pipeline\n",
    "from sklearn.model_selection import train_test_split\n",
    "from sklearn.metrics import mean_squared_error, mean_absolute_error, r2_score\n",
    "from sklearn.linear_model import LinearRegression, Lasso, Ridge\n",
    "from sklearn.neighbors import KNeighborsRegressor\n",
    "from sklearn.svm import SVR\n",
    "from sklearn.tree import DecisionTreeRegressor\n",
    "from sklearn.ensemble import RandomForestRegressor, GradientBoostingRegressor\n"
   ]
  },
  {
   "cell_type": "code",
   "execution_count": 75,
   "id": "9c6d71c3-ba54-4b54-9082-26d85cdc9731",
   "metadata": {},
   "outputs": [],
   "source": [
    "X = df.drop(columns =['market_value'])\n",
    "y = df['market_value']\n",
    "\n",
    "# Train_test_Split \n",
    "X_train,X_test,y_train,y_test = train_test_split(X,y,test_size = 0.2,random_state = 42)"
   ]
  },
  {
   "cell_type": "code",
   "execution_count": 76,
   "id": "72a84bf4-1210-49bc-9e41-2740d77b9077",
   "metadata": {},
   "outputs": [
    {
     "data": {
      "text/html": [
       "<div>\n",
       "<style scoped>\n",
       "    .dataframe tbody tr th:only-of-type {\n",
       "        vertical-align: middle;\n",
       "    }\n",
       "\n",
       "    .dataframe tbody tr th {\n",
       "        vertical-align: top;\n",
       "    }\n",
       "\n",
       "    .dataframe thead th {\n",
       "        text-align: right;\n",
       "    }\n",
       "</style>\n",
       "<table border=\"1\" class=\"dataframe\">\n",
       "  <thead>\n",
       "    <tr style=\"text-align: right;\">\n",
       "      <th></th>\n",
       "      <th>name</th>\n",
       "      <th>club</th>\n",
       "      <th>age</th>\n",
       "      <th>position</th>\n",
       "      <th>position_cat</th>\n",
       "      <th>page_views</th>\n",
       "      <th>fpl_value</th>\n",
       "      <th>fpl_sel</th>\n",
       "      <th>fpl_points</th>\n",
       "      <th>region</th>\n",
       "      <th>nationality</th>\n",
       "      <th>new_foreign</th>\n",
       "      <th>age_cat</th>\n",
       "      <th>club_id</th>\n",
       "      <th>big_club</th>\n",
       "      <th>new_signing</th>\n",
       "    </tr>\n",
       "  </thead>\n",
       "  <tbody>\n",
       "    <tr>\n",
       "      <th>456</th>\n",
       "      <td>Edimilson Fernandes</td>\n",
       "      <td>West+Ham</td>\n",
       "      <td>21</td>\n",
       "      <td>CM</td>\n",
       "      <td>2</td>\n",
       "      <td>288.0</td>\n",
       "      <td>4.5</td>\n",
       "      <td>0.40</td>\n",
       "      <td>38.0</td>\n",
       "      <td>2.0</td>\n",
       "      <td>Switzerland</td>\n",
       "      <td>0</td>\n",
       "      <td>1</td>\n",
       "      <td>20</td>\n",
       "      <td>0</td>\n",
       "      <td>1</td>\n",
       "    </tr>\n",
       "    <tr>\n",
       "      <th>57</th>\n",
       "      <td>Bruno</td>\n",
       "      <td>Brighton+and+Hove</td>\n",
       "      <td>36</td>\n",
       "      <td>RB</td>\n",
       "      <td>1</td>\n",
       "      <td>215.0</td>\n",
       "      <td>4.5</td>\n",
       "      <td>0.40</td>\n",
       "      <td>0.0</td>\n",
       "      <td>3.0</td>\n",
       "      <td>Argentina</td>\n",
       "      <td>0</td>\n",
       "      <td>6</td>\n",
       "      <td>3</td>\n",
       "      <td>0</td>\n",
       "      <td>0</td>\n",
       "    </tr>\n",
       "    <tr>\n",
       "      <th>155</th>\n",
       "      <td>Ademola Lookman</td>\n",
       "      <td>Everton</td>\n",
       "      <td>19</td>\n",
       "      <td>LW</td>\n",
       "      <td>1</td>\n",
       "      <td>1387.0</td>\n",
       "      <td>5.5</td>\n",
       "      <td>0.30</td>\n",
       "      <td>16.0</td>\n",
       "      <td>1.0</td>\n",
       "      <td>England</td>\n",
       "      <td>0</td>\n",
       "      <td>1</td>\n",
       "      <td>7</td>\n",
       "      <td>0</td>\n",
       "      <td>0</td>\n",
       "    </tr>\n",
       "    <tr>\n",
       "      <th>291</th>\n",
       "      <td>Grant Hanley</td>\n",
       "      <td>Newcastle+United</td>\n",
       "      <td>25</td>\n",
       "      <td>CB</td>\n",
       "      <td>3</td>\n",
       "      <td>265.0</td>\n",
       "      <td>4.0</td>\n",
       "      <td>2.50</td>\n",
       "      <td>0.0</td>\n",
       "      <td>2.0</td>\n",
       "      <td>Scotland</td>\n",
       "      <td>0</td>\n",
       "      <td>3</td>\n",
       "      <td>13</td>\n",
       "      <td>0</td>\n",
       "      <td>0</td>\n",
       "    </tr>\n",
       "    <tr>\n",
       "      <th>24</th>\n",
       "      <td>Carl Jenkinson</td>\n",
       "      <td>Arsenal</td>\n",
       "      <td>25</td>\n",
       "      <td>RB</td>\n",
       "      <td>3</td>\n",
       "      <td>561.0</td>\n",
       "      <td>4.5</td>\n",
       "      <td>0.40</td>\n",
       "      <td>2.0</td>\n",
       "      <td>1.0</td>\n",
       "      <td>England</td>\n",
       "      <td>0</td>\n",
       "      <td>3</td>\n",
       "      <td>1</td>\n",
       "      <td>1</td>\n",
       "      <td>0</td>\n",
       "    </tr>\n",
       "    <tr>\n",
       "      <th>...</th>\n",
       "      <td>...</td>\n",
       "      <td>...</td>\n",
       "      <td>...</td>\n",
       "      <td>...</td>\n",
       "      <td>...</td>\n",
       "      <td>...</td>\n",
       "      <td>...</td>\n",
       "      <td>...</td>\n",
       "      <td>...</td>\n",
       "      <td>...</td>\n",
       "      <td>...</td>\n",
       "      <td>...</td>\n",
       "      <td>...</td>\n",
       "      <td>...</td>\n",
       "      <td>...</td>\n",
       "      <td>...</td>\n",
       "    </tr>\n",
       "    <tr>\n",
       "      <th>106</th>\n",
       "      <td>Michy Batshuayi</td>\n",
       "      <td>Chelsea</td>\n",
       "      <td>23</td>\n",
       "      <td>CF</td>\n",
       "      <td>1</td>\n",
       "      <td>1162.0</td>\n",
       "      <td>7.0</td>\n",
       "      <td>1.60</td>\n",
       "      <td>48.0</td>\n",
       "      <td>2.0</td>\n",
       "      <td>Belgium</td>\n",
       "      <td>0</td>\n",
       "      <td>2</td>\n",
       "      <td>5</td>\n",
       "      <td>1</td>\n",
       "      <td>1</td>\n",
       "    </tr>\n",
       "    <tr>\n",
       "      <th>271</th>\n",
       "      <td>Henrikh Mkhitaryan</td>\n",
       "      <td>Manchester+United</td>\n",
       "      <td>28</td>\n",
       "      <td>AM</td>\n",
       "      <td>1</td>\n",
       "      <td>1910.0</td>\n",
       "      <td>7.0</td>\n",
       "      <td>4.50</td>\n",
       "      <td>73.0</td>\n",
       "      <td>4.0</td>\n",
       "      <td>Armenia</td>\n",
       "      <td>0</td>\n",
       "      <td>4</td>\n",
       "      <td>12</td>\n",
       "      <td>1</td>\n",
       "      <td>1</td>\n",
       "    </tr>\n",
       "    <tr>\n",
       "      <th>349</th>\n",
       "      <td>Ibrahim Afellay</td>\n",
       "      <td>Stoke+City</td>\n",
       "      <td>31</td>\n",
       "      <td>LM</td>\n",
       "      <td>2</td>\n",
       "      <td>461.0</td>\n",
       "      <td>5.0</td>\n",
       "      <td>0.00</td>\n",
       "      <td>15.0</td>\n",
       "      <td>2.0</td>\n",
       "      <td>Netherlands</td>\n",
       "      <td>0</td>\n",
       "      <td>4</td>\n",
       "      <td>15</td>\n",
       "      <td>0</td>\n",
       "      <td>0</td>\n",
       "    </tr>\n",
       "    <tr>\n",
       "      <th>436</th>\n",
       "      <td>Sam Field</td>\n",
       "      <td>West+Brom</td>\n",
       "      <td>19</td>\n",
       "      <td>CM</td>\n",
       "      <td>2</td>\n",
       "      <td>15.0</td>\n",
       "      <td>4.5</td>\n",
       "      <td>0.10</td>\n",
       "      <td>9.0</td>\n",
       "      <td>1.0</td>\n",
       "      <td>England</td>\n",
       "      <td>0</td>\n",
       "      <td>1</td>\n",
       "      <td>19</td>\n",
       "      <td>0</td>\n",
       "      <td>0</td>\n",
       "    </tr>\n",
       "    <tr>\n",
       "      <th>102</th>\n",
       "      <td>Victor Moses</td>\n",
       "      <td>Chelsea</td>\n",
       "      <td>26</td>\n",
       "      <td>RM</td>\n",
       "      <td>2</td>\n",
       "      <td>1910.0</td>\n",
       "      <td>6.5</td>\n",
       "      <td>0.20</td>\n",
       "      <td>105.0</td>\n",
       "      <td>4.0</td>\n",
       "      <td>Nigeria</td>\n",
       "      <td>0</td>\n",
       "      <td>3</td>\n",
       "      <td>5</td>\n",
       "      <td>1</td>\n",
       "      <td>0</td>\n",
       "    </tr>\n",
       "  </tbody>\n",
       "</table>\n",
       "<p>368 rows × 16 columns</p>\n",
       "</div>"
      ],
      "text/plain": [
       "                    name               club  age position  position_cat  \\\n",
       "456  Edimilson Fernandes           West+Ham   21       CM             2   \n",
       "57                 Bruno  Brighton+and+Hove   36       RB             1   \n",
       "155      Ademola Lookman            Everton   19       LW             1   \n",
       "291         Grant Hanley   Newcastle+United   25       CB             3   \n",
       "24        Carl Jenkinson            Arsenal   25       RB             3   \n",
       "..                   ...                ...  ...      ...           ...   \n",
       "106      Michy Batshuayi            Chelsea   23       CF             1   \n",
       "271   Henrikh Mkhitaryan  Manchester+United   28       AM             1   \n",
       "349      Ibrahim Afellay         Stoke+City   31       LM             2   \n",
       "436            Sam Field          West+Brom   19       CM             2   \n",
       "102         Victor Moses            Chelsea   26       RM             2   \n",
       "\n",
       "     page_views  fpl_value fpl_sel  fpl_points  region  nationality  \\\n",
       "456       288.0        4.5   0.40         38.0     2.0  Switzerland   \n",
       "57        215.0        4.5   0.40          0.0     3.0    Argentina   \n",
       "155      1387.0        5.5   0.30         16.0     1.0      England   \n",
       "291       265.0        4.0   2.50          0.0     2.0     Scotland   \n",
       "24        561.0        4.5   0.40          2.0     1.0      England   \n",
       "..          ...        ...     ...         ...     ...          ...   \n",
       "106      1162.0        7.0   1.60         48.0     2.0      Belgium   \n",
       "271      1910.0        7.0   4.50         73.0     4.0      Armenia   \n",
       "349       461.0        5.0   0.00         15.0     2.0  Netherlands   \n",
       "436        15.0        4.5   0.10          9.0     1.0      England   \n",
       "102      1910.0        6.5   0.20        105.0     4.0      Nigeria   \n",
       "\n",
       "     new_foreign  age_cat  club_id  big_club  new_signing  \n",
       "456            0        1       20         0            1  \n",
       "57             0        6        3         0            0  \n",
       "155            0        1        7         0            0  \n",
       "291            0        3       13         0            0  \n",
       "24             0        3        1         1            0  \n",
       "..           ...      ...      ...       ...          ...  \n",
       "106            0        2        5         1            1  \n",
       "271            0        4       12         1            1  \n",
       "349            0        4       15         0            0  \n",
       "436            0        1       19         0            0  \n",
       "102            0        3        5         1            0  \n",
       "\n",
       "[368 rows x 16 columns]"
      ]
     },
     "execution_count": 76,
     "metadata": {},
     "output_type": "execute_result"
    }
   ],
   "source": [
    "X_train"
   ]
  },
  {
   "cell_type": "code",
   "execution_count": 77,
   "id": "4f44a86e-1102-4b32-be94-ef8a8beb913d",
   "metadata": {},
   "outputs": [
    {
     "data": {
      "text/plain": [
       "124     8.00\n",
       "30      3.00\n",
       "200     7.00\n",
       "440    15.00\n",
       "154     3.50\n",
       "       ...  \n",
       "300     5.50\n",
       "46      4.00\n",
       "101    32.00\n",
       "416     3.00\n",
       "157     0.25\n",
       "Name: market_value, Length: 92, dtype: float64"
      ]
     },
     "execution_count": 77,
     "metadata": {},
     "output_type": "execute_result"
    }
   ],
   "source": [
    "y_test"
   ]
  },
  {
   "cell_type": "markdown",
   "id": "a2a272e1-f16b-449b-9579-eb07bed82cf5",
   "metadata": {},
   "source": [
    "# Linear Regression"
   ]
  },
  {
   "cell_type": "code",
   "execution_count": 93,
   "id": "b4a2222b-33d6-472b-af6d-46d2d0617113",
   "metadata": {},
   "outputs": [
    {
     "name": "stdout",
     "output_type": "stream",
     "text": [
      "Mean Squared Error: 17.927960281193258\n",
      "Mean Absolute Error: 3.3626186180382756\n",
      "R2 Score: 0.7832579375457909\n"
     ]
    },
    {
     "name": "stderr",
     "output_type": "stream",
     "text": [
      "C:\\Users\\Harsh\\anaconda3\\Lib\\site-packages\\sklearn\\preprocessing\\_encoders.py:242: UserWarning: Found unknown categories in columns [0, 3] during transform. These unknown categories will be encoded as all zeros\n",
      "  warnings.warn(\n"
     ]
    }
   ],
   "source": [
    "# Categorical and numerical feature lists\n",
    "categorical_features = ['name', 'club', 'position', 'nationality']\n",
    "numerical_features = ['age', 'page_views', 'fpl_points']\n",
    "\n",
    "# Step 1: Split the data into training and testing sets\n",
    "X_train, X_test, y_train, y_test = train_test_split(X, y, test_size=0.2, random_state=42)\n",
    "\n",
    "# Step 2: ColumnTransformer with OneHotEncoder and StandardScaler\n",
    "preprocessor = ColumnTransformer(transformers=[\n",
    "    ('cat', OneHotEncoder(sparse_output=False, drop='first', handle_unknown='ignore'), categorical_features),  \n",
    "    ('num', StandardScaler(), numerical_features)\n",
    "], remainder='passthrough')\n",
    "\n",
    "# Step 3: Linear Regression Model\n",
    "model = LinearRegression()\n",
    "\n",
    "# Step 4: Create the pipeline with OneHotEncoder, StandardScaler, and the model\n",
    "pipe = Pipeline([\n",
    "    ('preprocessor', preprocessor),\n",
    "    ('model', model)\n",
    "])\n",
    "\n",
    "# Step 5: Fit the pipeline on the training data\n",
    "pipe.fit(X_train, y_train)\n",
    "\n",
    "# Step 6: Make predictions on the test data\n",
    "y_pred = pipe.predict(X_test)\n",
    "\n",
    "# Step 7: Print regression metrics\n",
    "print('Mean Squared Error:', mean_squared_error(y_test, y_pred))\n",
    "print('Mean Absolute Error:', mean_absolute_error(y_test, y_pred))\n",
    "print('R2 Score:', r2_score(y_test, y_pred))"
   ]
  },
  {
   "cell_type": "markdown",
   "id": "e56416fa-8c71-4193-850a-69bbc5a8ce57",
   "metadata": {},
   "source": [
    "# Lasso Regression"
   ]
  },
  {
   "cell_type": "code",
   "execution_count": 82,
   "id": "e6e545a6-b224-468c-8f0e-d5fee725d5e1",
   "metadata": {},
   "outputs": [
    {
     "name": "stdout",
     "output_type": "stream",
     "text": [
      "Lasso Regression with OneHotEncoder and StandardScaler:\n",
      "Mean Squared Error: 16.481875923761276\n",
      "Mean Absolute Error: 3.078352473967513\n",
      "R2 Score: 0.8007405346285927\n",
      "--------------------------------------------------\n"
     ]
    },
    {
     "name": "stderr",
     "output_type": "stream",
     "text": [
      "C:\\Users\\Harsh\\anaconda3\\Lib\\site-packages\\sklearn\\preprocessing\\_encoders.py:242: UserWarning: Found unknown categories in columns [0, 3] during transform. These unknown categories will be encoded as all zeros\n",
      "  warnings.warn(\n"
     ]
    }
   ],
   "source": [
    "# Step 2: Lasso Regression Model\n",
    "lasso_model = Pipeline([\n",
    "    ('preprocessor', preprocessor),\n",
    "    ('model', Lasso(alpha=0.1))\n",
    "])\n",
    "\n",
    "# Fit the pipeline on the training data\n",
    "lasso_model.fit(X_train, y_train)\n",
    "\n",
    "# Make predictions on the test data\n",
    "y_pred_lasso = lasso_model.predict(X_test)\n",
    "\n",
    "# Calculate metrics\n",
    "print('Mean Squared Error:', mean_squared_error(y_test, y_pred_lasso))\n",
    "print('Mean Absolute Error:', mean_absolute_error(y_test, y_pred_lasso))\n",
    "print('R2 Score:', r2_score(y_test, y_pred_lasso))"
   ]
  },
  {
   "cell_type": "markdown",
   "id": "cf84937b-03f9-43e9-811d-4b8db8dc5d3e",
   "metadata": {},
   "source": [
    "# Ridge Regression"
   ]
  },
  {
   "cell_type": "code",
   "execution_count": 94,
   "id": "85ab583d-8dd6-484d-a40f-7cf72209449b",
   "metadata": {},
   "outputs": [
    {
     "name": "stdout",
     "output_type": "stream",
     "text": [
      "Mean Squared Error: 16.836889902182907\n",
      "Mean Absolute Error: 3.2385444280222497\n",
      "R2 Score: 0.7964485537966239\n"
     ]
    },
    {
     "name": "stderr",
     "output_type": "stream",
     "text": [
      "C:\\Users\\Harsh\\anaconda3\\Lib\\site-packages\\sklearn\\preprocessing\\_encoders.py:242: UserWarning: Found unknown categories in columns [0, 3] during transform. These unknown categories will be encoded as all zeros\n",
      "  warnings.warn(\n"
     ]
    }
   ],
   "source": [
    "# Step 2: Ridge Regression Model\n",
    "ridge_model = Pipeline([\n",
    "    ('preprocessor', preprocessor),\n",
    "    ('model', Ridge())\n",
    "])\n",
    "\n",
    "# Fit the pipeline on the training data\n",
    "ridge_model.fit(X_train, y_train)\n",
    "\n",
    "# Make predictions on the test data\n",
    "y_pred_ridge = ridge_model.predict(X_test)\n",
    "\n",
    "# Calculate metrics\n",
    "print('Mean Squared Error:', mean_squared_error(y_test, y_pred_ridge))\n",
    "print('Mean Absolute Error:', mean_absolute_error(y_test, y_pred_ridge))\n",
    "print('R2 Score:', r2_score(y_test, y_pred_ridge))"
   ]
  },
  {
   "cell_type": "markdown",
   "id": "2460eef7-0bba-40a6-8aa6-9ff9df1de33b",
   "metadata": {},
   "source": [
    "# Nearest Neighbors Regression"
   ]
  },
  {
   "cell_type": "code",
   "execution_count": 95,
   "id": "38444da3-e230-49f1-bfef-67d1a9e54ff6",
   "metadata": {},
   "outputs": [
    {
     "name": "stdout",
     "output_type": "stream",
     "text": [
      "Mean Squared Error: 29.051026086956515\n",
      "Mean Absolute Error: 3.904130434782609\n",
      "R2 Score: 0.6487844009168622\n"
     ]
    },
    {
     "name": "stderr",
     "output_type": "stream",
     "text": [
      "C:\\Users\\Harsh\\anaconda3\\Lib\\site-packages\\sklearn\\preprocessing\\_encoders.py:242: UserWarning: Found unknown categories in columns [0, 3] during transform. These unknown categories will be encoded as all zeros\n",
      "  warnings.warn(\n"
     ]
    }
   ],
   "source": [
    "# Step 2: Nearest Neighbors Regression Model\n",
    "knn_model = Pipeline([\n",
    "    ('preprocessor', preprocessor),\n",
    "    ('model', KNeighborsRegressor())\n",
    "])\n",
    "\n",
    "# Fit the pipeline on the training data\n",
    "knn_model.fit(X_train, y_train)\n",
    "\n",
    "# Make predictions on the test data\n",
    "y_pred_knn = knn_model.predict(X_test)\n",
    "\n",
    "# Calculate metrics\n",
    "print('Mean Squared Error:', mean_squared_error(y_test, y_pred_knn))\n",
    "print('Mean Absolute Error:', mean_absolute_error(y_test, y_pred_knn))\n",
    "print('R2 Score:', r2_score(y_test, y_pred_knn))"
   ]
  },
  {
   "cell_type": "markdown",
   "id": "add692e0-d57c-495b-acb9-bd9a040e941d",
   "metadata": {},
   "source": [
    "# Support Vector Regression"
   ]
  },
  {
   "cell_type": "code",
   "execution_count": 85,
   "id": "0231106f-fe68-4575-bb4c-3c4b575a75a1",
   "metadata": {},
   "outputs": [
    {
     "name": "stdout",
     "output_type": "stream",
     "text": [
      "Support Vector Regression with OneHotEncoder and StandardScaler:\n",
      "Mean Squared Error: 50.91813612232073\n",
      "Mean Absolute Error: 5.063255842053401\n",
      "R2 Score: 0.38441955100419156\n"
     ]
    },
    {
     "name": "stderr",
     "output_type": "stream",
     "text": [
      "C:\\Users\\Harsh\\anaconda3\\Lib\\site-packages\\sklearn\\preprocessing\\_encoders.py:242: UserWarning: Found unknown categories in columns [0, 3] during transform. These unknown categories will be encoded as all zeros\n",
      "  warnings.warn(\n"
     ]
    }
   ],
   "source": [
    "# Step 2: Support Vector Regression Model\n",
    "svr_model = Pipeline([\n",
    "    ('preprocessor', preprocessor),\n",
    "    ('model', SVR())\n",
    "])\n",
    "\n",
    "# Fit the pipeline on the training data\n",
    "svr_model.fit(X_train, y_train)\n",
    "\n",
    "# Make predictions on the test data\n",
    "y_pred_svr = svr_model.predict(X_test)\n",
    "\n",
    "# Calculate metrics\n",
    "print('Mean Squared Error:', mean_squared_error(y_test, y_pred_svr))\n",
    "print('Mean Absolute Error:', mean_absolute_error(y_test, y_pred_svr))\n",
    "print('R2 Score:', r2_score(y_test, y_pred_svr))"
   ]
  },
  {
   "cell_type": "markdown",
   "id": "06d2dce1-1059-45e4-bced-34e5a767ca9a",
   "metadata": {},
   "source": [
    "# Tree Regression"
   ]
  },
  {
   "cell_type": "code",
   "execution_count": 92,
   "id": "9de25ff6-130f-470c-8efb-f75aebc04b97",
   "metadata": {},
   "outputs": [
    {
     "name": "stdout",
     "output_type": "stream",
     "text": [
      "Mean Squared Error: 46.22078804347826\n",
      "Mean Absolute Error: 4.540760869565218\n",
      "R2 Score: 0.4412086611263092\n"
     ]
    },
    {
     "name": "stderr",
     "output_type": "stream",
     "text": [
      "C:\\Users\\Harsh\\anaconda3\\Lib\\site-packages\\sklearn\\preprocessing\\_encoders.py:242: UserWarning: Found unknown categories in columns [0, 3] during transform. These unknown categories will be encoded as all zeros\n",
      "  warnings.warn(\n"
     ]
    }
   ],
   "source": [
    "# Step 2: Tree Regression Model\n",
    "tree_model = Pipeline([\n",
    "    ('preprocessor', preprocessor),\n",
    "    ('model', DecisionTreeRegressor())\n",
    "])\n",
    "\n",
    "# Fit the pipeline on the training data\n",
    "tree_model.fit(X_train, y_train)\n",
    "\n",
    "# Make predictions on the test data\n",
    "y_pred_tree = tree_model.predict(X_test)\n",
    "\n",
    "# Calculate metrics\n",
    "print('Mean Squared Error:', mean_squared_error(y_test, y_pred_tree))\n",
    "print('Mean Absolute Error:', mean_absolute_error(y_test, y_pred_tree))\n",
    "print('R2 Score:', r2_score(y_test, y_pred_tree))\n"
   ]
  },
  {
   "cell_type": "markdown",
   "id": "a3ae3db4-92df-4345-b88f-4a52d00ba228",
   "metadata": {},
   "source": [
    "# Random Forest Regression"
   ]
  },
  {
   "cell_type": "code",
   "execution_count": 91,
   "id": "02cc4c16-b677-4819-8b78-d7a770e56d15",
   "metadata": {},
   "outputs": [
    {
     "name": "stdout",
     "output_type": "stream",
     "text": [
      "Mean Squared Error: 21.29626964673913\n",
      "Mean Absolute Error: 3.136445652173913\n",
      "R2 Score: 0.742536388221628\n"
     ]
    },
    {
     "name": "stderr",
     "output_type": "stream",
     "text": [
      "C:\\Users\\Harsh\\anaconda3\\Lib\\site-packages\\sklearn\\preprocessing\\_encoders.py:242: UserWarning: Found unknown categories in columns [0, 3] during transform. These unknown categories will be encoded as all zeros\n",
      "  warnings.warn(\n"
     ]
    }
   ],
   "source": [
    "# Step 2: Random Forest Regression Model\n",
    "random_forest_model = Pipeline([\n",
    "    ('preprocessor', preprocessor),\n",
    "    ('model', RandomForestRegressor())\n",
    "])\n",
    "\n",
    "# Fit the pipeline on the training data\n",
    "random_forest_model.fit(X_train, y_train)\n",
    "\n",
    "# Make predictions on the test data\n",
    "y_pred_rf = random_forest_model.predict(X_test)\n",
    "\n",
    "# Calculate metrics\n",
    "print('Mean Squared Error:', mean_squared_error(y_test, y_pred_rf))\n",
    "print('Mean Absolute Error:', mean_absolute_error(y_test, y_pred_rf))\n",
    "print('R2 Score:', r2_score(y_test, y_pred_rf))"
   ]
  },
  {
   "cell_type": "markdown",
   "id": "bcb6a308-4b98-413f-8e8d-9f037109f15d",
   "metadata": {},
   "source": [
    "#  Gradient Boosted Regression"
   ]
  },
  {
   "cell_type": "code",
   "execution_count": 90,
   "id": "544b481a-f248-4df9-91c0-6a998c565b1c",
   "metadata": {},
   "outputs": [
    {
     "name": "stdout",
     "output_type": "stream",
     "text": [
      "Mean Squared Error: 17.648099179748755\n",
      "Mean Absolute Error: 2.9090411305633093\n",
      "R2 Score: 0.7866413493436972\n"
     ]
    },
    {
     "name": "stderr",
     "output_type": "stream",
     "text": [
      "C:\\Users\\Harsh\\anaconda3\\Lib\\site-packages\\sklearn\\preprocessing\\_encoders.py:242: UserWarning: Found unknown categories in columns [0, 3] during transform. These unknown categories will be encoded as all zeros\n",
      "  warnings.warn(\n"
     ]
    }
   ],
   "source": [
    "# Step 2: Gradient Boosted Regression Model\n",
    "gradient_boosted_model = Pipeline([\n",
    "    ('preprocessor', preprocessor),\n",
    "    ('model', GradientBoostingRegressor())\n",
    "])\n",
    "\n",
    "# Fit the pipeline on the training data\n",
    "gradient_boosted_model.fit(X_train, y_train)\n",
    "\n",
    "# Make predictions on the test data\n",
    "y_pred_gb = gradient_boosted_model.predict(X_test)\n",
    "\n",
    "# Calculate metrics\n",
    "print('Mean Squared Error:', mean_squared_error(y_test, y_pred_gb))\n",
    "print('Mean Absolute Error:', mean_absolute_error(y_test, y_pred_gb))\n",
    "print('R2 Score:', r2_score(y_test, y_pred_gb))\n"
   ]
  },
  {
   "cell_type": "code",
   "execution_count": null,
   "id": "e500084f-d6a6-4071-b594-ca0761f97839",
   "metadata": {},
   "outputs": [],
   "source": []
  }
 ],
 "metadata": {
  "kernelspec": {
   "display_name": "Python 3 (ipykernel)",
   "language": "python",
   "name": "python3"
  },
  "language_info": {
   "codemirror_mode": {
    "name": "ipython",
    "version": 3
   },
   "file_extension": ".py",
   "mimetype": "text/x-python",
   "name": "python",
   "nbconvert_exporter": "python",
   "pygments_lexer": "ipython3",
   "version": "3.11.9"
  }
 },
 "nbformat": 4,
 "nbformat_minor": 5
}
